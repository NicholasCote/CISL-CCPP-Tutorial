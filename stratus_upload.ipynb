{
 "cells": [
  {
   "cell_type": "markdown",
   "id": "5fa13ee1-bb1d-483e-a74d-a5aad9e91113",
   "metadata": {},
   "source": [
    "# Credentials"
   ]
  },
  {
   "cell_type": "markdown",
   "id": "24a56dcb-2e30-4a45-99ca-10a47283d45b",
   "metadata": {},
   "source": [
    "These functions use the Python package `os` to get your Stratus Access ID and Secret Key. Please add your keys to a file named `~/.aws/credentials` so it looks like below\r\n",
    "\n",
    "[default]\n",
    "\r\n",
    "aws_access_key_id = youraccessidhere\n",
    "\r\n",
    "aws_secret_access_key = yoursecretkeyhere\"`"
   ]
  },
  {
   "cell_type": "markdown",
   "id": "47ef31c7-5363-44e3-876f-6797e310d146",
   "metadata": {},
   "source": [
    "If you need access to Stratus you can utilize this [link to follow the process to request access](https://ncar.github.io/cisl-cloud/how-to/Stratus/stratus-access.html)"
   ]
  },
  {
   "cell_type": "code",
   "execution_count": null,
   "id": "b0588195-8695-4ab8-b5ce-f3706126bc74",
   "metadata": {},
   "outputs": [],
   "source": [
    "import stratus"
   ]
  },
  {
   "cell_type": "code",
   "execution_count": null,
   "id": "ed2f79a9-db6f-4847-845f-6c3c0396c545",
   "metadata": {},
   "outputs": [],
   "source": [
    "stratus.upload_file('GLADE_ex-pic-1-23-2024.png', 'cisl-cloud-users', 'ncote/GLADE_ex-pic-1-23-2024.png')"
   ]
  },
  {
   "cell_type": "code",
   "execution_count": null,
   "id": "b514f1cb-5328-44fa-91a6-30e94761ad67",
   "metadata": {},
   "outputs": [],
   "source": [
    "stratus.list_bucket_objs('cisl-cloud-users')"
   ]
  }
 ],
 "metadata": {
  "kernelspec": {
   "display_name": "cisl-cloud-base (Python)",
   "language": "python",
   "name": "conda-env-cisl-cloud-base-py"
  },
  "language_info": {
   "codemirror_mode": {
    "name": "ipython",
    "version": 3
   },
   "file_extension": ".py",
   "mimetype": "text/x-python",
   "name": "python",
   "nbconvert_exporter": "python",
   "pygments_lexer": "ipython3",
   "version": "3.10.12"
  }
 },
 "nbformat": 4,
 "nbformat_minor": 5
}
