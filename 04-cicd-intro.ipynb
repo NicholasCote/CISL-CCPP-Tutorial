{
 "cells": [
  {
   "cell_type": "markdown",
   "id": "b0dbd378-bc8d-46e5-aa00-129aa3c71974",
   "metadata": {},
   "source": [
    "***The example code and container image were developed by On-Prem Cloud team member Negin Sobhani***"
   ]
  },
  {
   "cell_type": "markdown",
   "id": "516279ad-e5d3-4633-bd79-0959d3782260",
   "metadata": {},
   "source": [
    "# Utilizing CICD on the On-Premise Cloud"
   ]
  },
  {
   "cell_type": "markdown",
   "id": "583527cb-4938-44d1-beae-4a45a4c09fb1",
   "metadata": {},
   "source": [
    "GitHub can be combined with tools deployed on the On-Premise cloud to deploy a full CICD workflow for your applications. In this tutorial for the sake of time we are going to cover some of these topics more quickly."
   ]
  },
  {
   "cell_type": "markdown",
   "id": "17abcef2-fe5b-421f-89c8-72cbc4cbf029",
   "metadata": {},
   "source": [
    "***Note:*** Docker, Podman, or a similar container managment tool is required on your local machine to follow along with the next commands. If you are not already familiar with container building and associated topics it's best to pay attention to the example, and go back afterward to try some of the concepts on your own. Here's a [link to Get Docker](https://docs.docker.com/get-docker/)"
   ]
  },
  {
   "cell_type": "markdown",
   "id": "b7632b46-47be-4ab5-b6de-eb649db47a74",
   "metadata": {},
   "source": [
    "## Clone Web application repository"
   ]
  },
  {
   "cell_type": "markdown",
   "id": "eac1475b-7e1a-4f73-87ca-8417409dab07",
   "metadata": {},
   "source": [
    "On a machine that has docker, or a similar container management tool, clone the following repository:"
   ]
  },
  {
   "cell_type": "markdown",
   "id": "a6c0e838-5438-4ef2-9a60-445fd5d0b7bf",
   "metadata": {},
   "source": [
    "https://github.com/negin513/neon_dashboard.git"
   ]
  },
  {
   "cell_type": "markdown",
   "id": "27984714-7f54-44aa-8991-11154e4b6a22",
   "metadata": {},
   "source": [
    "This already contains a Python Bokeh web application that can be run locally or can be built in to a container. The README.md file contains all the information you need in order to test run the application locally as well as run via Docker. We will cover the docker steps here."
   ]
  },
  {
   "cell_type": "markdown",
   "id": "de9e908c-1a13-4cf6-aacf-5a92d6e5d2e5",
   "metadata": {},
   "source": [
    "## Build a Docker image"
   ]
  },
  {
   "cell_type": "markdown",
   "id": "cbe6cdaa-3a07-41ee-abd9-03f844d1c695",
   "metadata": {},
   "source": [
    "After cloning the repository make sure you are working in the directory that contains the file `Dockerfile`. If it's not present you may need to run `cd neon_dashboard`. Once you are in that directory we can build the Docker image."
   ]
  },
  {
   "cell_type": "markdown",
   "id": "b58b3229-91ee-4c57-96ef-00c50f8856d5",
   "metadata": {},
   "source": [
    "***Note:*** The Dockerfile command specifies the URL to allow connections to. This is not applicable for this demonstration. Please replace `negin-neon-test.k8s.ucar.edu` with `localhost:5006` to run this locally. For a deployment with a valid URL, this would be that URL. A wildcard can also be used but it allows all connections and is not secure."
   ]
  },
  {
   "cell_type": "markdown",
   "id": "7cc556d3-11c1-4408-b460-25e2d18cf933",
   "metadata": {},
   "source": [
    "`docker build -t ncote/neon-app:2024-1-23 .`"
   ]
  },
  {
   "cell_type": "markdown",
   "id": "28d35dd2-5c2d-4f97-a58b-7542ef4a2aec",
   "metadata": {},
   "source": [
    "It should all finish properly and we can test by navigating to [http://localhost:5006/neon_dashboard](http://localhost:5006/neon_dashboard)"
   ]
  },
  {
   "cell_type": "markdown",
   "id": "43f60c8a-7479-4005-a3d3-c69c148e1893",
   "metadata": {},
   "source": [
    "We now want to update the websocket origin in the dockerfile to match what we want to deploy to on the K8s cluster and rebuild. "
   ]
  },
  {
   "cell_type": "markdown",
   "id": "11839761-56eb-4faf-a56d-e03f0b7c678e",
   "metadata": {},
   "source": [
    "## Push to internal Container Registry"
   ]
  },
  {
   "cell_type": "markdown",
   "id": "d71773b4-6765-4f77-bfe9-4cb6c9c6e92c",
   "metadata": {},
   "source": [
    "The following example also uses a project in Harbor that has already been configured for my user name and allows me to do administrative tasks. "
   ]
  },
  {
   "cell_type": "markdown",
   "id": "2fa7f1e8-8281-4800-851c-0a3a90ed9162",
   "metadata": {},
   "source": [
    "Before we can push the container image to the local registry we have to login with our CIT credentials like so:"
   ]
  },
  {
   "cell_type": "markdown",
   "id": "17bf6885-21e3-4a10-96e9-b705a1d6b29d",
   "metadata": {},
   "source": [
    "`docker login hub.k8s.ucar.edu -u ncote`"
   ]
  },
  {
   "cell_type": "markdown",
   "id": "df3c8e38-9777-4493-ae62-1b95da6160a0",
   "metadata": {},
   "source": [
    "***Note:*** Access is currently given out to LDAP members of CISL only. We can add users on a request basis. Submit a ticket following the process we covered earlier to request access to Harbor. "
   ]
  },
  {
   "cell_type": "markdown",
   "id": "e5913347-5733-4ee2-945c-fb07f31ec67d",
   "metadata": {},
   "source": [
    "Once we are logged in we can tag the image we just built with the Harbor address and then push it with the following commands:"
   ]
  },
  {
   "cell_type": "markdown",
   "id": "cf8ef0ae-8559-47dc-ab73-0bfb62a6a554",
   "metadata": {},
   "source": [
    "`docker tag ncote/neon-dashboard:2024-1-23 hub.k8s.ucar.edu/ncote/neon-dashboard:2024-1-23`\n",
    "\n",
    "`docker push hub.k8s.ucar.edu/ncote/neon-dashboard:2024-1-23`"
   ]
  },
  {
   "cell_type": "markdown",
   "id": "4273df98-0e39-43c8-8c78-cdf4445b7922",
   "metadata": {},
   "source": [
    "When that is finished our image has been added to Harbor and we can look at Vulnerability scan results and configure permissions if we like. The URL for the Harbor UI is [https://hub.k8s.ucar.edu/](https://hub.k8s.ucar.edu/)"
   ]
  },
  {
   "cell_type": "markdown",
   "id": "2f1154a1-b31f-4a5c-98fb-1920b55ed5cf",
   "metadata": {},
   "source": [
    "My Harbor repository is public, I am in control of this in the Configuration settings, so anyone can pull these images without needing a login. "
   ]
  },
  {
   "cell_type": "markdown",
   "id": "d59d80cf-4152-4a6c-acfd-7d80ebbcc189",
   "metadata": {},
   "source": [
    "## Create Helm Chart"
   ]
  },
  {
   "cell_type": "markdown",
   "id": "f07f1b2c-21c8-4b03-8f7c-009757c7ab0e",
   "metadata": {},
   "source": [
    "There is a service deployed on the CISL On-Premise Cloud, named Argo CD, that can be configured to look for Helm charts in a git repository. Administrator assistance is required to connect your applications Helm chart with Argo CD initially. Once it is in place your application will update automatically whenever changes are made to the Helm chart hosted in the git repository. "
   ]
  },
  {
   "cell_type": "markdown",
   "id": "5502679c-e62d-4f40-b488-5c942a7dc6d3",
   "metadata": {},
   "source": [
    "We include links to a few different example helm charts in the Documentation. They can be found at this [link to Helm Charts & Argo CD](https://ncar.github.io/cisl-cloud/how-to/K8s/Hosting/deploy.html#helm-charts-argo-cd). The NEON Dashboard example we have used is a standalone container so we will copy the Helm chart template used there right in to the CISL-CCPP-Tutorial repository we have open now. "
   ]
  },
  {
   "cell_type": "markdown",
   "id": "65b9f30a-5cc7-47e0-b65d-9bb56cf53c40",
   "metadata": {},
   "source": [
    "***NOTE:*** JupyterHub does not allow you to copy whole folders. We will create a folder named `web-app-helm` and copy the required files in to it. A `templates` directory inside `web-app-helm` is also required.  "
   ]
  },
  {
   "cell_type": "markdown",
   "id": "8536b167-587b-4a9a-9fd4-ba90dbd9afdb",
   "metadata": {},
   "source": [
    "### Update Chart.yaml"
   ]
  },
  {
   "cell_type": "markdown",
   "id": "e8ce1f1e-d533-4926-a328-d13200bc804c",
   "metadata": {},
   "source": [
    "`Chart.yaml` is mostly used to define your applications name and the current version deployed. We will go ahead and update the name to be `ccpp-tutorial-demo` and the version will be 0.1.0 and the appVersion will follow the Docker image tag we used, todays date."
   ]
  },
  {
   "cell_type": "markdown",
   "id": "03256917-4234-4961-a797-f1a43f6656f9",
   "metadata": {},
   "source": [
    "***Note:*** Avoid using the tag `:latest`. Since this value would never change, there won't be any changes to the `Chart.yaml` or `values.yaml` file to trigger a diff and sync. "
   ]
  },
  {
   "cell_type": "markdown",
   "id": "a7c432eb-3d5e-44e2-914b-61919c61d16f",
   "metadata": {},
   "source": [
    "### Update values.yaml"
   ]
  },
  {
   "cell_type": "markdown",
   "id": "fa2c8730-6ea1-4cfe-a835-5483b8b21c2d",
   "metadata": {},
   "source": [
    "The `values.yaml` file contains the information we really care about when trying to deploy our applications. We will go ahead and update the following values: `name:`, `group:`, `path:`, `fqdn:`, `secretName:`, `image:`, & `port:`. In depth details on these values are included in our Documentation page and the README in the repository.   "
   ]
  },
  {
   "cell_type": "markdown",
   "id": "932df286-6be6-4a3e-afb0-3bd8c0b4df86",
   "metadata": {},
   "source": [
    "***Note:*** The FQDN used at this point in time must match the URL provided to the allow-websocket-origin command used in the Dockerfile or traffic will be blocked"
   ]
  },
  {
   "cell_type": "markdown",
   "id": "f706089b-d76f-4970-bf7f-8b4a82d974fa",
   "metadata": {},
   "source": [
    "## Contact Admin"
   ]
  },
  {
   "cell_type": "markdown",
   "id": "d6b5974e-fd59-42a4-8efe-290321f91b0c",
   "metadata": {},
   "source": [
    "The nest steps all require Administrator assistance. Please submit a ticket once you have reached this step, include your Git URL, and an administrator will contact you to deploy your application. We will walk through these steps now so you can see what it looks like behind the scenes. "
   ]
  },
  {
   "cell_type": "markdown",
   "id": "69821b3c-9f19-4c0a-9ae7-c129cd6b7b7f",
   "metadata": {},
   "source": [
    "## Docs Example"
   ]
  },
  {
   "cell_type": "markdown",
   "id": "e428f4a8-46f2-4322-acb3-ad84cff596e3",
   "metadata": {},
   "source": [
    "As a demonstration I will make a small change to our documentation site and show how GitHub actions and workflows can be used to provide a full CICD experience. It builds a new Docker image, pushed it to Docker Hub, and updates the Helm chart. There are example workflows that can be used as a reference at this [link to GitHub Actions](https://ncar.github.io/cisl-cloud/how-to/github-actions.html)"
   ]
  },
  {
   "cell_type": "code",
   "execution_count": null,
   "id": "33f7fd71-909e-4cec-8e04-7f532f79fe2b",
   "metadata": {},
   "outputs": [],
   "source": []
  }
 ],
 "metadata": {
  "kernelspec": {
   "display_name": "cisl-cloud-base (Python)",
   "language": "python",
   "name": "conda-env-cisl-cloud-base-py"
  },
  "language_info": {
   "codemirror_mode": {
    "name": "ipython",
    "version": 3
   },
   "file_extension": ".py",
   "mimetype": "text/x-python",
   "name": "python",
   "nbconvert_exporter": "python",
   "pygments_lexer": "ipython3",
   "version": "3.10.12"
  }
 },
 "nbformat": 4,
 "nbformat_minor": 5
}
